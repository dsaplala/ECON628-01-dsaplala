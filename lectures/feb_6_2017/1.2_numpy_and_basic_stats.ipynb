{
 "cells": [
  {
   "cell_type": "markdown",
   "metadata": {},
   "source": [
    "<img src=\"https://images.efollett.com/htmlroot/images/templates/storeLogos/CA/864.gif\" style=\"float: right;\"> \n",
    "\n",
    "\n",
    "\n",
    "\n",
    "# ECON628-01 \n",
    "### Lecture -  1.2 Numpy and Basic Stats\n"
   ]
  },
  {
   "cell_type": "code",
   "execution_count": 1,
   "metadata": {
    "collapsed": true
   },
   "outputs": [],
   "source": [
    "import numpy as np\n",
    "from scipy.stats import mode\n",
    "\n",
    "dist = [33.3, 8.0, 2.7, 7.0, 11.3, 10.2, 38.4, 14.7, 46.9, 6.6, 38.6, 41.1, 20.4, 19.5,\n",
    "        102.6, 111.5, 21.8, 27.0, 30.3, 9.3, 19.6, 31.1, 48.8, 8.9, 11.4, 0.6, 23.5,\n",
    "        8.0, 27.5, 69.7, 11.5, 15.5, 1.4, 7.0, 4.6, 6.0, 16.0, 17.2, 6.3, 26.2, 23.9,\n",
    "        45.9, 55.4, 100.8, 22.9, 75.5, 115.5, 58.9, 10.5, 92.6, 12.4, 102.7, 10.2, 167.6,\n",
    "        143.6, 132.3, 134.2, 39.4, 49.7, 12.0, 27.0, 1.3, 4.7, 5.0, 24.1, 21.5, 33.1,\n",
    "        45.6, 46.3, 15.8, 30.7, 15.7, 6.8, 64.6, 39.1, 2.9, 8.0, 5.4, 33.4, 40.0, 22.7,\n",
    "        24.2, 25.7, 85.0, 26.2, 3.3, 20.7, 117.4, 66.8, 44.3, 37.9, 71.8, 161.4, 45.9,\n",
    "        4.6, 6.6, 12.6, 24.4, 21.4, 33.6, 33.7, 18.8, 7.6, 36.3, 1.8, 83.2, 75.1, 71.3,\n",
    "        32.9, 30.6, 16.0, 6.9, 11.0, 9.4, 11.7, 13.8, 39.4, 4.3, 38.1, 60.1, 78.2, 49.6,\n",
    "        14.3, 8.0, 19.3, 30.8, 32.5, 29.6, 28.3, 32.4, 35.7, 36.7, 10.0, 8.5, 12.2, 22.6,\n",
    "        32.1, 25.7, 14.1, 20.9, 23.8, 29.5, 2.9, 42.3, 19.9, 47.5, 15.9, 6.0, 19.3, 38.2,\n",
    "        23.5, 2.7, 27.0, 49.9, 43.5, 31.7, 39.1, 15.1, 18.0, 33.8, 32.1, 50.7, 28.8, 11.6,\n",
    "        74.8, 16.2, 8.3, 36.3, 44.0, 15.6, 48.9, 7.3, 8.2, 29.8, 38.7, 3.9, 7.2, 5.1, 23.7,\n",
    "        48.4, 92.0, 64.3, 97.4, 99.1, 18.0, 7.1, 14.7, 47.1, 41.3, 44.2, 6.5, 44.4, 9.7,\n",
    "        15.5, 23.7, 34.5, 19.9, 58.6, 35.0, 66.1, 74.5, 45.2]"
   ]
  },
  {
   "cell_type": "markdown",
   "metadata": {},
   "source": [
    "##### Q1: Calculate the mean of dist"
   ]
  },
  {
   "cell_type": "code",
   "execution_count": 4,
   "metadata": {
    "collapsed": false
   },
   "outputs": [],
   "source": [
    "np.mean?"
   ]
  },
  {
   "cell_type": "code",
   "execution_count": 14,
   "metadata": {
    "collapsed": false
   },
   "outputs": [
    {
     "name": "stdout",
     "output_type": "stream",
     "text": [
      "33.995049505\n"
     ]
    }
   ],
   "source": [
    "dmean = np.mean(dist)\n",
    "print(dmean)"
   ]
  },
  {
   "cell_type": "markdown",
   "metadata": {},
   "source": [
    "##### Q2: Calculate the median of dist"
   ]
  },
  {
   "cell_type": "code",
   "execution_count": 15,
   "metadata": {
    "collapsed": false
   },
   "outputs": [
    {
     "name": "stdout",
     "output_type": "stream",
     "text": [
      "25.95\n"
     ]
    }
   ],
   "source": [
    "dmedian = np.median(dist)\n",
    "print(dmedian)"
   ]
  },
  {
   "cell_type": "markdown",
   "metadata": {},
   "source": [
    "##### Q3: Round the numbers of dist, then calculate the mode"
   ]
  },
  {
   "cell_type": "code",
   "execution_count": 6,
   "metadata": {
    "collapsed": false
   },
   "outputs": [
    {
     "data": {
      "text/plain": [
       "[33,\n",
       " 8,\n",
       " 3,\n",
       " 7,\n",
       " 11,\n",
       " 10,\n",
       " 38,\n",
       " 15,\n",
       " 47,\n",
       " 7,\n",
       " 39,\n",
       " 41,\n",
       " 20,\n",
       " 20,\n",
       " 103,\n",
       " 112,\n",
       " 22,\n",
       " 27,\n",
       " 30,\n",
       " 9,\n",
       " 20,\n",
       " 31,\n",
       " 49,\n",
       " 9,\n",
       " 11,\n",
       " 1,\n",
       " 24,\n",
       " 8,\n",
       " 28,\n",
       " 70,\n",
       " 12,\n",
       " 16,\n",
       " 1,\n",
       " 7,\n",
       " 5,\n",
       " 6,\n",
       " 16,\n",
       " 17,\n",
       " 6,\n",
       " 26,\n",
       " 24,\n",
       " 46,\n",
       " 55,\n",
       " 101,\n",
       " 23,\n",
       " 76,\n",
       " 116,\n",
       " 59,\n",
       " 11,\n",
       " 93,\n",
       " 12,\n",
       " 103,\n",
       " 10,\n",
       " 168,\n",
       " 144,\n",
       " 132,\n",
       " 134,\n",
       " 39,\n",
       " 50,\n",
       " 12,\n",
       " 27,\n",
       " 1,\n",
       " 5,\n",
       " 5,\n",
       " 24,\n",
       " 22,\n",
       " 33,\n",
       " 46,\n",
       " 46,\n",
       " 16,\n",
       " 31,\n",
       " 16,\n",
       " 7,\n",
       " 65,\n",
       " 39,\n",
       " 3,\n",
       " 8,\n",
       " 5,\n",
       " 33,\n",
       " 40,\n",
       " 23,\n",
       " 24,\n",
       " 26,\n",
       " 85,\n",
       " 26,\n",
       " 3,\n",
       " 21,\n",
       " 117,\n",
       " 67,\n",
       " 44,\n",
       " 38,\n",
       " 72,\n",
       " 161,\n",
       " 46,\n",
       " 5,\n",
       " 7,\n",
       " 13,\n",
       " 24,\n",
       " 21,\n",
       " 34,\n",
       " 34,\n",
       " 19,\n",
       " 8,\n",
       " 36,\n",
       " 2,\n",
       " 83,\n",
       " 75,\n",
       " 71,\n",
       " 33,\n",
       " 31,\n",
       " 16,\n",
       " 7,\n",
       " 11,\n",
       " 9,\n",
       " 12,\n",
       " 14,\n",
       " 39,\n",
       " 4,\n",
       " 38,\n",
       " 60,\n",
       " 78,\n",
       " 50,\n",
       " 14,\n",
       " 8,\n",
       " 19,\n",
       " 31,\n",
       " 33,\n",
       " 30,\n",
       " 28,\n",
       " 32,\n",
       " 36,\n",
       " 37,\n",
       " 10,\n",
       " 9,\n",
       " 12,\n",
       " 23,\n",
       " 32,\n",
       " 26,\n",
       " 14,\n",
       " 21,\n",
       " 24,\n",
       " 30,\n",
       " 3,\n",
       " 42,\n",
       " 20,\n",
       " 48,\n",
       " 16,\n",
       " 6,\n",
       " 19,\n",
       " 38,\n",
       " 24,\n",
       " 3,\n",
       " 27,\n",
       " 50,\n",
       " 44,\n",
       " 32,\n",
       " 39,\n",
       " 15,\n",
       " 18,\n",
       " 34,\n",
       " 32,\n",
       " 51,\n",
       " 29,\n",
       " 12,\n",
       " 75,\n",
       " 16,\n",
       " 8,\n",
       " 36,\n",
       " 44,\n",
       " 16,\n",
       " 49,\n",
       " 7,\n",
       " 8,\n",
       " 30,\n",
       " 39,\n",
       " 4,\n",
       " 7,\n",
       " 5,\n",
       " 24,\n",
       " 48,\n",
       " 92,\n",
       " 64,\n",
       " 97,\n",
       " 99,\n",
       " 18,\n",
       " 7,\n",
       " 15,\n",
       " 47,\n",
       " 41,\n",
       " 44,\n",
       " 7,\n",
       " 44,\n",
       " 10,\n",
       " 16,\n",
       " 24,\n",
       " 35,\n",
       " 20,\n",
       " 59,\n",
       " 35,\n",
       " 66,\n",
       " 75,\n",
       " 45]"
      ]
     },
     "execution_count": 6,
     "metadata": {},
     "output_type": "execute_result"
    }
   ],
   "source": [
    "[int(round(n)) for n in dist]"
   ]
  },
  {
   "cell_type": "code",
   "execution_count": 22,
   "metadata": {
    "collapsed": false
   },
   "outputs": [
    {
     "data": {
      "text/plain": [
       "[33.3,\n",
       " 8.0,\n",
       " 2.7,\n",
       " 7.0,\n",
       " 11.3,\n",
       " 10.2,\n",
       " 38.4,\n",
       " 14.7,\n",
       " 46.9,\n",
       " 6.6,\n",
       " 38.6,\n",
       " 41.1,\n",
       " 20.4,\n",
       " 19.5,\n",
       " 102.6,\n",
       " 111.5,\n",
       " 21.8,\n",
       " 27.0,\n",
       " 30.3,\n",
       " 9.3,\n",
       " 19.6,\n",
       " 31.1,\n",
       " 48.8,\n",
       " 8.9,\n",
       " 11.4,\n",
       " 0.6,\n",
       " 23.5,\n",
       " 8.0,\n",
       " 27.5,\n",
       " 69.7,\n",
       " 11.5,\n",
       " 15.5,\n",
       " 1.4,\n",
       " 7.0,\n",
       " 4.6,\n",
       " 6.0,\n",
       " 16.0,\n",
       " 17.2,\n",
       " 6.3,\n",
       " 26.2,\n",
       " 23.9,\n",
       " 45.9,\n",
       " 55.4,\n",
       " 100.8,\n",
       " 22.9,\n",
       " 75.5,\n",
       " 115.5,\n",
       " 58.9,\n",
       " 10.5,\n",
       " 92.6,\n",
       " 12.4,\n",
       " 102.7,\n",
       " 10.2,\n",
       " 167.6,\n",
       " 143.6,\n",
       " 132.3,\n",
       " 134.2,\n",
       " 39.4,\n",
       " 49.7,\n",
       " 12.0,\n",
       " 27.0,\n",
       " 1.3,\n",
       " 4.7,\n",
       " 5.0,\n",
       " 24.1,\n",
       " 21.5,\n",
       " 33.1,\n",
       " 45.6,\n",
       " 46.3,\n",
       " 15.8,\n",
       " 30.7,\n",
       " 15.7,\n",
       " 6.8,\n",
       " 64.6,\n",
       " 39.1,\n",
       " 2.9,\n",
       " 8.0,\n",
       " 5.4,\n",
       " 33.4,\n",
       " 40.0,\n",
       " 22.7,\n",
       " 24.2,\n",
       " 25.7,\n",
       " 85.0,\n",
       " 26.2,\n",
       " 3.3,\n",
       " 20.7,\n",
       " 117.4,\n",
       " 66.8,\n",
       " 44.3,\n",
       " 37.9,\n",
       " 71.8,\n",
       " 161.4,\n",
       " 45.9,\n",
       " 4.6,\n",
       " 6.6,\n",
       " 12.6,\n",
       " 24.4,\n",
       " 21.4,\n",
       " 33.6,\n",
       " 33.7,\n",
       " 18.8,\n",
       " 7.6,\n",
       " 36.3,\n",
       " 1.8,\n",
       " 83.2,\n",
       " 75.1,\n",
       " 71.3,\n",
       " 32.9,\n",
       " 30.6,\n",
       " 16.0,\n",
       " 6.9,\n",
       " 11.0,\n",
       " 9.4,\n",
       " 11.7,\n",
       " 13.8,\n",
       " 39.4,\n",
       " 4.3,\n",
       " 38.1,\n",
       " 60.1,\n",
       " 78.2,\n",
       " 49.6,\n",
       " 14.3,\n",
       " 8.0,\n",
       " 19.3,\n",
       " 30.8,\n",
       " 32.5,\n",
       " 29.6,\n",
       " 28.3,\n",
       " 32.4,\n",
       " 35.7,\n",
       " 36.7,\n",
       " 10.0,\n",
       " 8.5,\n",
       " 12.2,\n",
       " 22.6,\n",
       " 32.1,\n",
       " 25.7,\n",
       " 14.1,\n",
       " 20.9,\n",
       " 23.8,\n",
       " 29.5,\n",
       " 2.9,\n",
       " 42.3,\n",
       " 19.9,\n",
       " 47.5,\n",
       " 15.9,\n",
       " 6.0,\n",
       " 19.3,\n",
       " 38.2,\n",
       " 23.5,\n",
       " 2.7,\n",
       " 27.0,\n",
       " 49.9,\n",
       " 43.5,\n",
       " 31.7,\n",
       " 39.1,\n",
       " 15.1,\n",
       " 18.0,\n",
       " 33.8,\n",
       " 32.1,\n",
       " 50.7,\n",
       " 28.8,\n",
       " 11.6,\n",
       " 74.8,\n",
       " 16.2,\n",
       " 8.3,\n",
       " 36.3,\n",
       " 44.0,\n",
       " 15.6,\n",
       " 48.9,\n",
       " 7.3,\n",
       " 8.2,\n",
       " 29.8,\n",
       " 38.7,\n",
       " 3.9,\n",
       " 7.2,\n",
       " 5.1,\n",
       " 23.7,\n",
       " 48.4,\n",
       " 92.0,\n",
       " 64.3,\n",
       " 97.4,\n",
       " 99.1,\n",
       " 18.0,\n",
       " 7.1,\n",
       " 14.7,\n",
       " 47.1,\n",
       " 41.3,\n",
       " 44.2,\n",
       " 6.5,\n",
       " 44.4,\n",
       " 9.7,\n",
       " 15.5,\n",
       " 23.7,\n",
       " 34.5,\n",
       " 19.9,\n",
       " 58.6,\n",
       " 35.0,\n",
       " 66.1,\n",
       " 74.5,\n",
       " 45.2]"
      ]
     },
     "execution_count": 22,
     "metadata": {},
     "output_type": "execute_result"
    }
   ],
   "source": [
    "dist"
   ]
  },
  {
   "cell_type": "code",
   "execution_count": 20,
   "metadata": {
    "collapsed": true
   },
   "outputs": [],
   "source": [
    "dist_rounded = [int(round(n)) for n in dist]"
   ]
  },
  {
   "cell_type": "code",
   "execution_count": 21,
   "metadata": {
    "collapsed": false
   },
   "outputs": [
    {
     "name": "stdout",
     "output_type": "stream",
     "text": [
      "[7]\n"
     ]
    }
   ],
   "source": [
    "dmode = mode(dist_rounded)[0]\n",
    "print(dmode)"
   ]
  },
  {
   "cell_type": "markdown",
   "metadata": {},
   "source": [
    "##### Q4: Determine if dist is skewed. If so, which way? How can you tell?"
   ]
  },
  {
   "cell_type": "code",
   "execution_count": 16,
   "metadata": {
    "collapsed": false
   },
   "outputs": [
    {
     "name": "stdout",
     "output_type": "stream",
     "text": [
      "positive skewed\n"
     ]
    }
   ],
   "source": [
    "if (dmean == dmedian) and (dmedian == dmode):\n",
    "    print('symmetrical')\n",
    "\n",
    "if (dmean < dmedian) and (dmedian < dmode):\n",
    "    print('negative skewed')\n",
    "\n",
    "if (dmean > dmedian) and (dmedian > dmode):\n",
    "    print('positive skewed')"
   ]
  },
  {
   "cell_type": "markdown",
   "metadata": {},
   "source": [
    "##### Q5: Calculate the range of dist"
   ]
  },
  {
   "cell_type": "code",
   "execution_count": 17,
   "metadata": {
    "collapsed": false
   },
   "outputs": [
    {
     "name": "stdout",
     "output_type": "stream",
     "text": [
      "167.0\n"
     ]
    }
   ],
   "source": [
    "dist_sorted = sorted(dist)\n",
    "print(dist_sorted[len(dist)-1] - dist_sorted[0])"
   ]
  },
  {
   "cell_type": "markdown",
   "metadata": {},
   "source": [
    "##### Q6: Calculate the variance of dist"
   ]
  },
  {
   "cell_type": "code",
   "execution_count": 8,
   "metadata": {
    "collapsed": false
   },
   "outputs": [
    {
     "name": "stdout",
     "output_type": "stream",
     "text": [
      "957.827698265\n"
     ]
    }
   ],
   "source": [
    "var = np.var(dist)\n",
    "print(var)"
   ]
  },
  {
   "cell_type": "markdown",
   "metadata": {},
   "source": [
    "##### Q7: Calculate the standard deviation of dist. What does this tell you about the distribution of numbers?"
   ]
  },
  {
   "cell_type": "code",
   "execution_count": 18,
   "metadata": {
    "collapsed": false
   },
   "outputs": [
    {
     "name": "stdout",
     "output_type": "stream",
     "text": [
      "30.9487915477\n"
     ]
    }
   ],
   "source": [
    "std = np.std(dist)\n",
    "print(std)\n",
    "\n",
    "# The standard deviation is approximately how far, on average, numbers lie from the mean"
   ]
  },
  {
   "cell_type": "markdown",
   "metadata": {},
   "source": [
    "##### Challenge: Round the numbers of dist, and then calculate the mode of dist without using scipy!"
   ]
  },
  {
   "cell_type": "code",
   "execution_count": 10,
   "metadata": {
    "collapsed": true
   },
   "outputs": [],
   "source": [
    "# There are, as you might imagine, many ways to do this. One way to do this with the tools\n",
    "# we have learned so far is with dictionaries.\n",
    "\n",
    "# [Note: only works for unimodal distributions!]\n"
   ]
  },
  {
   "cell_type": "code",
   "execution_count": 19,
   "metadata": {
    "collapsed": false
   },
   "outputs": [
    {
     "name": "stdout",
     "output_type": "stream",
     "text": [
      "{1.0: 3, 2.0: 1, 3.0: 5, 132.0: 1, 5.0: 6, 6.0: 3, 7.0: 10, 8.0: 7, 9.0: 4, 10.0: 4, 11.0: 4, 12.0: 6, 13.0: 1, 14.0: 3, 15.0: 3, 16.0: 9, 17.0: 1, 18.0: 2, 19.0: 3, 20.0: 5, 21.0: 3, 22.0: 2, 23.0: 3, 24.0: 9, 4.0: 2, 26.0: 4, 27.0: 3, 28.0: 2, 29.0: 1, 30.0: 4, 31.0: 4, 32.0: 4, 33.0: 5, 34.0: 3, 35.0: 2, 36.0: 3, 134.0: 1, 38.0: 4, 39.0: 6, 168.0: 1, 41.0: 2, 42.0: 1, 71.0: 1, 44.0: 5, 45.0: 1, 46.0: 4, 47.0: 2, 48.0: 2, 49.0: 2, 50.0: 3, 51.0: 1, 55.0: 1, 59.0: 2, 60.0: 1, 64.0: 1, 65.0: 1, 66.0: 1, 67.0: 1, 70.0: 1, 161.0: 1, 72.0: 1, 75.0: 3, 76.0: 1, 78.0: 1, 83.0: 1, 85.0: 1, 92.0: 1, 93.0: 1, 37.0: 1, 144.0: 1, 99.0: 1, 101.0: 1, 103.0: 2, 97.0: 1, 112.0: 1, 40.0: 1, 116.0: 1, 117.0: 1}\n",
      "('mode: ', 7.0)\n"
     ]
    }
   ],
   "source": [
    "counts = {}\n",
    "\n",
    "for n in dist_rounded:\n",
    "    if n in counts:\n",
    "        counts[n] = counts[n] + 1\n",
    "    else:\n",
    "        counts[n] = 1\n",
    "\n",
    "print(counts)\n",
    "\n",
    "max_key = None\n",
    "max_val = 0\n",
    "for k, v in counts.items():\n",
    "    if v > max_val:\n",
    "        max_key = k\n",
    "        max_val = v\n",
    "        \n",
    "print('mode: ', max_key)"
   ]
  },
  {
   "cell_type": "code",
   "execution_count": null,
   "metadata": {
    "collapsed": true
   },
   "outputs": [],
   "source": []
  }
 ],
 "metadata": {
  "anaconda-cloud": {},
  "kernelspec": {
   "display_name": "Python [conda env:econ]",
   "language": "python",
   "name": "conda-env-econ-py"
  },
  "language_info": {
   "codemirror_mode": {
    "name": "ipython",
    "version": 2
   },
   "file_extension": ".py",
   "mimetype": "text/x-python",
   "name": "python",
   "nbconvert_exporter": "python",
   "pygments_lexer": "ipython2",
   "version": "2.7.12"
  }
 },
 "nbformat": 4,
 "nbformat_minor": 0
}
