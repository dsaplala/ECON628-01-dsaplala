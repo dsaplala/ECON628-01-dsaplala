{
 "cells": [
  {
   "cell_type": "markdown",
   "metadata": {},
   "source": [
    "<img src=\"https://images.efollett.com/htmlroot/images/templates/storeLogos/CA/864.gif\" style=\"float: right;\"> \n",
    "\n",
    "\n",
    "\n",
    "\n",
    "# ECON628-01 \n",
    "### Lecture -  1.7 Mega Lab \"Affairs\""
   ]
  },
  {
   "cell_type": "markdown",
   "metadata": {},
   "source": [
    "This dataset, located in the `Affairs` folder, is a survey collecting data on the number of affairs people have had and other characteristics.\n",
    "\n",
    "The columns are described:\n",
    "\n",
    "    sex: a string with gender (male, female)\n",
    "    age: age\n",
    "    ym: number of years married\n",
    "    child: children vs. not (yes, no)\n",
    "    religious: how religious, from 1 (anti) to 5 (very)\n",
    "    education: years of education\n",
    "    occupation: occupation, from 1 to 7, according to hollingshead classification (lower = more \"prestige\")\n",
    "    rate: self rating of mariage, from 1 (very unhappy) to 5 (very happy)\n",
    "    nbaffairs: number of affairs in past year\n",
    "    \n",
    "The challenge with EDA in this dataset is primarily that so many of the variables are categorical or ordinal responses. Scatter plots are not very useful for visualization since the points simply overlap each other.\n",
    "\n",
    "---\n",
    "\n",
    "### Requirements\n",
    "\n",
    "As a group you should:\n",
    "\n",
    "1. Load and clean, if neccessary, the data with pandas.\n",
    "2. Describe the data and investigate any outliers.\n",
    "3. Explore relationships between the variables.\n",
    "4. Visualize at least three variables of your choice with appropriate visualizations. They should be readable.\n",
    "5. Visualize subsets of the variables you chose, subsetted conditional on some other variable. For example, number of affairs by gender.\n",
    "6. Write a brief report on at least 5 things you found interesting about the data or, if it doesn't interest you at all, things you found out and why they are boring.\n"
   ]
  },
  {
   "cell_type": "code",
   "execution_count": null,
   "metadata": {
    "collapsed": true
   },
   "outputs": [],
   "source": []
  }
 ],
 "metadata": {
  "anaconda-cloud": {},
  "kernelspec": {
   "display_name": "Python [Root]",
   "language": "python",
   "name": "Python [Root]"
  },
  "language_info": {
   "codemirror_mode": {
    "name": "ipython",
    "version": 2
   },
   "file_extension": ".py",
   "mimetype": "text/x-python",
   "name": "python",
   "nbconvert_exporter": "python",
   "pygments_lexer": "ipython2",
   "version": "2.7.12"
  }
 },
 "nbformat": 4,
 "nbformat_minor": 0
}
